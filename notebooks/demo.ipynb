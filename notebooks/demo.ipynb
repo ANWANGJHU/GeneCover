{
 "cells": [
  {
   "cell_type": "code",
   "execution_count": 1,
   "id": "466cade8",
   "metadata": {},
   "outputs": [],
   "source": [
    "from genecover import *\n",
    "import numpy as np\n",
    "import scanpy as sc\n",
    "import pandas as pd\n",
    "import os "
   ]
  },
  {
   "cell_type": "markdown",
   "id": "8850d47a",
   "metadata": {},
   "source": [
    "# Marker Gene Selection from DLPFC Sample #151673"
   ]
  },
  {
   "cell_type": "markdown",
   "id": "56908a7c",
   "metadata": {},
   "source": [
    "### Load Dataset"
   ]
  },
  {
   "cell_type": "code",
   "execution_count": null,
   "id": "275d3d76",
   "metadata": {},
   "outputs": [
    {
     "name": "stderr",
     "output_type": "stream",
     "text": [
      "C:\\Users\\An Wang\\AppData\\Local\\Temp\\ipykernel_8748\\1400016560.py:4: FutureWarning: Use `squidpy.read.visium` instead.\n",
      "  adata = sc.read_visium(path,count_file = \"filtered_feature_bc_matrix.h5\",load_images=True)\n",
      "c:\\Users\\An Wang\\.conda\\envs\\vae-spatial\\lib\\site-packages\\anndata\\_core\\anndata.py:1758: UserWarning: Variable names are not unique. To make them unique, call `.var_names_make_unique`.\n",
      "  utils.warn_names_duplicates(\"var\")\n",
      "c:\\Users\\An Wang\\.conda\\envs\\vae-spatial\\lib\\site-packages\\anndata\\_core\\anndata.py:1758: UserWarning: Variable names are not unique. To make them unique, call `.var_names_make_unique`.\n",
      "  utils.warn_names_duplicates(\"var\")\n",
      "c:\\Users\\An Wang\\.conda\\envs\\vae-spatial\\lib\\site-packages\\scanpy\\preprocessing\\_simple.py:287: ImplicitModificationWarning: Trying to modify attribute `.var` of view, initializing view as actual.\n",
      "  adata.var[\"n_cells\"] = number\n"
     ]
    }
   ],
   "source": [
    "data_dir = \"..\\\\data\\\\DLPFC\"\n",
    "file_folder = \"151673\"\n",
    "path = os.path.join(data_dir, file_folder)\n",
    "adata = sc.read_visium(path,count_file = \"filtered_feature_bc_matrix.h5\",load_images=True)\n",
    "adata.var_names_make_unique()\n",
    "df_meta = pd.read_csv(os.path.join(path, \"metadata.tsv\"), sep='\\t')\n",
    "df_meta_layer = df_meta['layer_guess']\n",
    "adata.obs['ground_truth'] = df_meta_layer.values\n",
    "adata = adata[~pd.isnull(adata.obs['ground_truth'])]\n",
    "sc.pp.filter_genes(adata, min_cells=100)\n",
    "sc.pp.normalize_total(adata, target_sum=1e4)\n",
    "sc.pp.log1p(adata)\n",
    "orig_gene = adata.var.index.values"
   ]
  },
  {
   "cell_type": "markdown",
   "id": "61acfede",
   "metadata": {},
   "source": [
    "### Computing Correlation Matrix"
   ]
  },
  {
   "cell_type": "code",
   "execution_count": 8,
   "id": "f9c57399",
   "metadata": {},
   "outputs": [],
   "source": [
    "corr_mat = gene_gene_correlation(adata.X.toarray())"
   ]
  },
  {
   "cell_type": "markdown",
   "id": "67343b83",
   "metadata": {},
   "source": [
    "### GeneCover via Combinatorial Optimization (Gurobi Solver)"
   ]
  },
  {
   "cell_type": "code",
   "execution_count": null,
   "id": "6948d2da",
   "metadata": {},
   "outputs": [
    {
     "name": "stdout",
     "output_type": "stream",
     "text": [
      "Best Gap:  0\n",
      "Best Epsilon:  0.1311767578125\n",
      "GeneCover markers: \n",
      " ['MARCKSL1' 'SYNC' 'ATP1A1' 'ATP1B1' 'NME7' 'CNTN2' 'HPCAL1' 'VSNL1'\n",
      " 'MDH1' 'PPP3R1' 'CTNNA2' 'TMSB10' 'IGKC' 'MAL' 'ERMN' 'LRP2' 'GAD1'\n",
      " 'CHN1' 'MOBP' 'CCK' 'AC106707.1' 'CLDN11' 'FAM131A' 'LDB2' 'UCHL1' 'SPP1'\n",
      " 'BBS7' 'HHIP' 'TMEM144' 'GPM6A' 'SLC1A3' 'ENC1' 'EDIL3' 'CXCL14' 'GABRB2'\n",
      " 'MOG' 'ACTB' 'NDUFA4' 'RAPGEF5' 'AQP1' 'PHKG1' 'YWHAG' 'SLC26A4-AS1'\n",
      " 'GJB1' 'NAP1L2' 'NEFM' 'NEFL' 'STMN2' 'CALB1' 'ENPP2' 'DIRAS2' 'CERCAM'\n",
      " 'OLFM1' 'PTGDS' 'SAA1' 'FOLH1' 'MYRF' 'SCGB2A2' 'CARNS1' 'NRGN' 'NKX6-2'\n",
      " 'NELL2' 'KRT8' 'KCNC2' 'SYT1' 'CUX2' 'CABP1' 'AACS' 'RTN1' 'HSPA2'\n",
      " 'PPP4R4' 'GLDN' 'HBA2' 'SLC5A11' 'AC009133.1' 'PLLP' 'NDRG4' 'CALB2'\n",
      " 'KRT19' 'CNP' 'GFAP' 'NSF' 'ANKRD40' 'AATK' 'MBP' 'CHGB' 'SNAP25' 'CST3'\n",
      " 'BCAS1' 'NDUFA7' 'PPP1R14A' 'CALM3' 'RSPH14' 'NEFH' 'YWHAH' 'C21orf91'\n",
      " 'OLIG1' 'PCP4' 'MT-CO1' 'MT-CO2']\n"
     ]
    }
   ],
   "source": [
    "# Obtain 100 marker genes \n",
    "genecover_markers = GeneCover(num_marker=100, corr_mat=corr_mat, w=np.ones(corr_mat.shape[1]), greedy=False)\n",
    "print(\"GeneCover markers: \\n\", orig_gene[genecover_markers])"
   ]
  },
  {
   "cell_type": "markdown",
   "id": "c5eb6c39",
   "metadata": {},
   "source": [
    "### GeneCover via Greedy Heuristics (Don't Need Gurobi)"
   ]
  },
  {
   "cell_type": "code",
   "execution_count": null,
   "id": "2e067b4a",
   "metadata": {},
   "outputs": [
    {
     "name": "stdout",
     "output_type": "stream",
     "text": [
      "Best Gap:  0\n",
      "Best Epsilon:  0.136181640625\n",
      "GeneCover markers: \n",
      " ['SNAP25' 'ERMN' 'ENC1' 'VSNL1' 'MAG' 'SCGB2A2' 'ATP1B1' 'RTN1' 'PTGDS'\n",
      " 'OLFM1' 'MOG' 'MBP' 'FABP4' 'IGKC' 'CST3' 'CARNS1' 'GAD1' 'TMEM144'\n",
      " 'KRT19' 'MT-CO1' 'NME7' 'UCHL1' 'PPP1R14A' 'CHN1' 'CLDN11' 'HBB' 'HSPA2'\n",
      " 'CALB2' 'EDIL3' 'YWHAG' 'GJB1' 'NEFL' 'ENPP2' 'KRT8' 'RNASE1' 'SLC5A11'\n",
      " 'GFAP' 'YWHAH' 'SYNC' 'RPL5' 'ATP1A1' 'HPCAL1' 'FAM84A' 'PPP3R1' 'TMSB10'\n",
      " 'MOBP' 'LDB2' 'LIMCH1' 'SPP1' 'HHIP' 'SV2C' 'SLC12A2' 'CXCL14' 'TUBB2A'\n",
      " 'ACTB' 'RAPGEF5' 'AQP1' 'PHKG1' 'SEMA3E' 'CHRDL1' 'LAMP2' 'NEFM' 'CALB1'\n",
      " 'DIRAS2' 'SLC44A1' 'STXBP1' 'CERCAM' 'ABCA2' 'FOLH1' 'FTH1' 'THY1'\n",
      " 'HSPA8' 'NRGN' 'NKX6-2' 'VAMP1' 'SYT1' 'CABP1' 'AACS' 'HTR2A' 'SLAIN1'\n",
      " 'HS6ST3' 'GLDN' 'IQCK' 'GPRC5B' 'AC009133.1' 'PLLP' 'NDRG4' 'RPL26'\n",
      " 'LRRC75A' 'KRT17' 'NSF' 'ANKRD40' 'SEPT4' 'AATK' 'CHGB' 'LAMP5' 'NEFH'\n",
      " 'OLIG1' 'S100B' 'MT-CO3']\n"
     ]
    }
   ],
   "source": [
    "#obtain 100 marker genes via greedy heuristics\n",
    "genecover_markers_greedy = GeneCover(num_marker=100, corr_mat=corr_mat, w=np.ones(corr_mat.shape[1]), greedy=True)\n",
    "print(\"GeneCover markers: \\n\", orig_gene[genecover_markers_greedy])"
   ]
  },
  {
   "cell_type": "markdown",
   "id": "8feb09d9",
   "metadata": {},
   "source": [
    "### Iterative GeneCover via Combinatorial Optimization"
   ]
  },
  {
   "cell_type": "code",
   "execution_count": 14,
   "id": "7a2d338e",
   "metadata": {},
   "outputs": [
    {
     "name": "stdout",
     "output_type": "stream",
     "text": [
      "Iteration 1\n",
      "Best Gap:  0\n",
      "Best Epsilon:  0.1311767578125\n",
      "Iteration  2\n",
      "Best Gap:  0\n",
      "Best Epsilon:  0.1367919921875\n"
     ]
    }
   ],
   "source": [
    "# Obtain 200 marker genes via Iterative GeneCover with an incremental size of 100 and two iterations\n",
    "genecover_markers_iterative = Iterative_GeneCover(incremental_sizes=[100,100], corr_mat=corr_mat, w=np.ones(corr_mat.shape[1]), greedy=False)"
   ]
  },
  {
   "cell_type": "markdown",
   "id": "693d7e6a",
   "metadata": {},
   "source": [
    "### Iterative GeneCover via Greedy Heuristics"
   ]
  },
  {
   "cell_type": "code",
   "execution_count": 17,
   "id": "89bc7372",
   "metadata": {},
   "outputs": [
    {
     "name": "stdout",
     "output_type": "stream",
     "text": [
      "Iteration 1\n",
      "Best Gap:  0\n",
      "Best Epsilon:  0.136181640625\n",
      "Iteration  2\n",
      "Best Gap:  0\n",
      "Best Epsilon:  0.14765625\n"
     ]
    }
   ],
   "source": [
    "# Obtain 200 marker genes via Iterative GeneCover (Greedy Heuristics) with an incremental size of 100 and two iterations\n",
    "genecover_markers_iterative = Iterative_GeneCover(incremental_sizes=[100,100], corr_mat=corr_mat, w=np.ones(corr_mat.shape[1]), greedy=True)"
   ]
  },
  {
   "cell_type": "markdown",
   "id": "c1d6020b",
   "metadata": {},
   "source": [
    "# Marker Gene Selection Across Samples"
   ]
  },
  {
   "cell_type": "markdown",
   "id": "6962a1a6",
   "metadata": {},
   "source": [
    "### Load the datasets (Sample #1515067, #151669, #151673)"
   ]
  },
  {
   "cell_type": "code",
   "execution_count": 28,
   "id": "53d4db40",
   "metadata": {},
   "outputs": [
    {
     "name": "stderr",
     "output_type": "stream",
     "text": [
      "c:\\Users\\An Wang\\.conda\\envs\\vae-spatial\\lib\\site-packages\\anndata\\_core\\anndata.py:1758: UserWarning: Variable names are not unique. To make them unique, call `.var_names_make_unique`.\n",
      "  utils.warn_names_duplicates(\"var\")\n",
      "c:\\Users\\An Wang\\.conda\\envs\\vae-spatial\\lib\\site-packages\\anndata\\_core\\anndata.py:1758: UserWarning: Variable names are not unique. To make them unique, call `.var_names_make_unique`.\n",
      "  utils.warn_names_duplicates(\"var\")\n",
      "c:\\Users\\An Wang\\.conda\\envs\\vae-spatial\\lib\\site-packages\\anndata\\_core\\anndata.py:1758: UserWarning: Variable names are not unique. To make them unique, call `.var_names_make_unique`.\n",
      "  utils.warn_names_duplicates(\"var\")\n",
      "c:\\Users\\An Wang\\.conda\\envs\\vae-spatial\\lib\\site-packages\\anndata\\_core\\anndata.py:1758: UserWarning: Variable names are not unique. To make them unique, call `.var_names_make_unique`.\n",
      "  utils.warn_names_duplicates(\"var\")\n",
      "c:\\Users\\An Wang\\.conda\\envs\\vae-spatial\\lib\\site-packages\\anndata\\_core\\anndata.py:1758: UserWarning: Variable names are not unique. To make them unique, call `.var_names_make_unique`.\n",
      "  utils.warn_names_duplicates(\"var\")\n",
      "c:\\Users\\An Wang\\.conda\\envs\\vae-spatial\\lib\\site-packages\\anndata\\_core\\anndata.py:1758: UserWarning: Variable names are not unique. To make them unique, call `.var_names_make_unique`.\n",
      "  utils.warn_names_duplicates(\"var\")\n"
     ]
    }
   ],
   "source": [
    "Adata = {}\n",
    "data_dir = \"..\\\\data\\\\DLPFC Full Samples\"\n",
    "file_names = os.listdir(data_dir)\n",
    "across_samples_file_names = file_names[:3]\n",
    "annotation_names = file_names[3:]\n",
    "for j,  file in enumerate(across_samples_file_names):\n",
    "    adata = sc.read_10x_h5(os.path.join(data_dir, file))\n",
    "    adata.var_names_make_unique()\n",
    "    layer_annotation = pd.read_csv(os.path.join(data_dir, annotation_names[j]), index_col=0)\n",
    "    assert np.all(adata.obs.index.values == layer_annotation.index.values)\n",
    "    adata.obs = layer_annotation\n",
    "    sc.pp.filter_genes(adata, min_cells=100)\n",
    "    sc.pp.normalize_total(adata, target_sum=1e4)\n",
    "    sc.pp.log1p(adata)\n",
    "    sc.pp.highly_variable_genes(adata, n_top_genes=10000)\n",
    "    adata = adata[:, adata.var.highly_variable]\n",
    "    Adata[file.split(\"_\")[0]] = adata\n",
    "\n",
    "for j, file in enumerate(across_samples_file_names):\n",
    "    if j == 0: \n",
    "        genes_across_samples = Adata[file.split(\"_\")[0]].var_names.values\n",
    "    else:\n",
    "        genes_across_samples = np.intersect1d(genes_across_samples, Adata[file.split(\"_\")[0]].var_names.values)\n",
    "\n",
    "for key in across_samples_file_names:\n",
    "    Adata[key.split(\"_\")[0]] = Adata[key.split(\"_\")[0]][:, genes_across_samples]"
   ]
  },
  {
   "cell_type": "markdown",
   "id": "55bfaa59",
   "metadata": {},
   "source": [
    "### Compute Correlation Matrices for Every Sample"
   ]
  },
  {
   "cell_type": "code",
   "execution_count": 29,
   "id": "a64eb0ca",
   "metadata": {},
   "outputs": [],
   "source": [
    "corr_mat_combine_across_samples = gene_gene_correlation([Adata[key.split(\"_\")[0]].X.toarray() for key in across_samples_file_names])"
   ]
  },
  {
   "cell_type": "markdown",
   "id": "ede8996c",
   "metadata": {},
   "source": [
    "### GeneCover Marker Selection via Combinatorial Optimization Across Samples"
   ]
  },
  {
   "cell_type": "code",
   "execution_count": null,
   "id": "06e6a76b",
   "metadata": {},
   "outputs": [
    {
     "name": "stdout",
     "output_type": "stream",
     "text": [
      "Best Gap:  0\n",
      "Best Epsilon:  0.10332946777343749\n",
      "GeneCover markers: \n",
      " ['AC005944.1' 'AC009133.1' 'AC092069.1' 'ACTB' 'ALDOA' 'AP3B2' 'ATP1A1'\n",
      " 'ATP1B1' 'ATP6V1B2' 'B2M' 'BASP1' 'CARTPT' 'CCK' 'CHN1' 'CLSTN2' 'CLSTN3'\n",
      " 'CPLX1' 'CRYM' 'CST3' 'DIRAS2' 'DYNC1I1' 'ENC1' 'EPHA4' 'FABP4' 'G0S2'\n",
      " 'GABRA1' 'GABRG2' 'GAD1' 'GAP43' 'GFAP' 'GPM6A' 'HBB' 'HOPX' 'IGHA1'\n",
      " 'IGLC2' 'KLK6' 'KRT17' 'KRT19' 'KRT8' 'LMO4' 'MAGEE1' 'MAP1B' 'MBP'\n",
      " 'MDH1' 'MICAL2' 'MOAP1' 'MOBP' 'MT-ND2' 'MT3' 'NDRG4' 'NEFH' 'NEFL'\n",
      " 'NEFM' 'NELL2' 'NME7' 'NRGN' 'NSF' 'OAT' 'OLFM1' 'PAK1' 'PDP1' 'PHKG1'\n",
      " 'PLIN1' 'PLP1' 'PPP3R1' 'RAB3A' 'REEP2' 'RPLP1' 'RTN1' 'RTN3' 'RTN4'\n",
      " 'SCGB2A2' 'SCN1A' 'SH3BGRL2' 'SLC17A7' 'SLC1A2' 'SLC24A2' 'SLC39A10'\n",
      " 'SNAP25' 'SNCB' 'SPP1' 'STMN1' 'STMN2' 'SYNC' 'SYNGR1' 'SYT1' 'SYT4'\n",
      " 'TFF1' 'TMEM38A' 'TMEM59L' 'TMSB10' 'TUBA1A' 'TUBA1B' 'TUBB2A' 'UCHL1'\n",
      " 'VPS35' 'VSNL1' 'WDR47' 'WDR7' 'YWHAG']\n"
     ]
    }
   ],
   "source": [
    "# Obtain 100 marker genes across samples\n",
    "genecover_marker_across_samples = GeneCover(num_marker=100, corr_mat = corr_mat_combine_across_samples, w = np.ones(corr_mat_combine_across_samples.shape[1]), greedy = False)\n",
    "print(\"GeneCover markers: \\n\", genes_across_samples[genecover_marker_across_samples])"
   ]
  },
  {
   "cell_type": "markdown",
   "id": "7e24f901",
   "metadata": {},
   "source": [
    "### GeneCover Marker Selection via Greedy Heuristics Across Samples"
   ]
  },
  {
   "cell_type": "code",
   "execution_count": null,
   "id": "cbb3bdb0",
   "metadata": {},
   "outputs": [
    {
     "name": "stdout",
     "output_type": "stream",
     "text": [
      "Best Gap:  0\n",
      "Best Epsilon:  0.11249999999999999\n",
      "GeneCover markers: \n",
      " ['SNAP25' 'PLP1' 'ENC1' 'SYT1' 'SCGB2A2' 'VSNL1' 'NRGN' 'CST3' 'ATP1B1'\n",
      " 'TUBA1B' 'RTN1' 'MOG' 'UCHL1' 'SAA1' 'NEFL' 'TMSB10' 'ERMN' 'GFAP' 'IGKC'\n",
      " 'KRT19' 'ACTB' 'MBP' 'OLFM1' 'MAP1B' 'CLDN11' 'SLC24A2' 'TUBB2A' 'MDH1'\n",
      " 'CARNS1' 'CHN1' 'CLSTN2' 'DIRAS2' 'MT-ND1' 'PTGDS' 'HBA1' 'STMN2'\n",
      " 'NDUFA4' 'RTN3' 'MAG' 'NEFM' 'STMN1' 'GABRB2' 'HSPA8' 'RPLP1' 'SLC1A2'\n",
      " 'AC092069.1' 'ATP6V1B2' 'CPNE4' 'EFHD2' 'NSF' 'PCP4' 'SPP1' 'YWHAG' 'CCK'\n",
      " 'CNDP1' 'CNP' 'ENPP2' 'GABRA1' 'HOPX' 'HPCAL1' 'MICAL2' 'PHKG1' 'TBR1'\n",
      " 'GAP43' 'LMO4' 'MT3' 'RAB3A' 'SERPINI1' 'BASP1' 'CDC37' 'COX6C' 'CPB1'\n",
      " 'CRYAB' 'ETS2' 'FKBP1A' 'KCNK1' 'KRT18' 'KRT8' 'LRRC75A' 'MARCKSL1'\n",
      " 'NARS' 'NCOA7' 'NDFIP1' 'NREP' 'PFKP' 'PRKCE' 'PTPRN' 'PVALB' 'RAB3C'\n",
      " 'RPS12' 'S100B' 'SCG5' 'SH3GL2' 'SLC17A7' 'SNCA' 'SNCG' 'TF' 'TFF1'\n",
      " 'TMEM59L' 'YWHAB']\n"
     ]
    }
   ],
   "source": [
    "# Obtain 100 marker genes across samples via greedy heuristics\n",
    "genecover_marker_across_samples_greedy = GeneCover(num_marker=100, corr_mat = corr_mat_combine_across_samples, w = np.ones(corr_mat_combine_across_samples.shape[1]), greedy = True)\n",
    "print(\"GeneCover markers: \\n\", genes_across_samples[genecover_marker_across_samples_greedy])"
   ]
  },
  {
   "cell_type": "markdown",
   "id": "a4ebc77a",
   "metadata": {},
   "source": [
    "### Iterative GeneCover via Combinatorial Optimization Across Samples"
   ]
  },
  {
   "cell_type": "code",
   "execution_count": 34,
   "id": "492f655c",
   "metadata": {},
   "outputs": [
    {
     "name": "stdout",
     "output_type": "stream",
     "text": [
      "Iteration 1\n",
      "Best Gap:  0\n",
      "Best Epsilon:  0.10332946777343749\n",
      "Iteration  2\n",
      "Best Gap:  0\n",
      "Best Epsilon:  0.10310058593749999\n"
     ]
    }
   ],
   "source": [
    "# Obtain 200 marker genes via Iterative GeneCover with an incremental size of 100 and two iterations\n",
    "genecover_marker_across_samples = genecover_markers_iterative = Iterative_GeneCover(incremental_sizes=[100,100], corr_mat=corr_mat_combine_across_samples, w=np.ones(corr_mat_combine_across_samples.shape[1]), greedy=False)"
   ]
  },
  {
   "cell_type": "code",
   "execution_count": null,
   "id": "79614e93",
   "metadata": {},
   "outputs": [
    {
     "name": "stdout",
     "output_type": "stream",
     "text": [
      "Iteration 1\n",
      "Best Gap:  0\n",
      "Best Epsilon:  0.11249999999999999\n",
      "Iteration  2\n"
     ]
    }
   ],
   "source": [
    "# Obtain 200 marker genes via Iterative GeneCover with an incremental size of 100 and two iterations\n",
    "genecover_marker_across_samples_greedy = genecover_markers_iterative = Iterative_GeneCover(incremental_sizes=[100,100], corr_mat=corr_mat_combine_across_samples, w=np.ones(corr_mat_combine_across_samples.shape[1]), greedy=True)"
   ]
  },
  {
   "cell_type": "markdown",
   "id": "a0faf107",
   "metadata": {},
   "source": []
  }
 ],
 "metadata": {
  "kernelspec": {
   "display_name": "vae-spatial",
   "language": "python",
   "name": "python3"
  },
  "language_info": {
   "codemirror_mode": {
    "name": "ipython",
    "version": 3
   },
   "file_extension": ".py",
   "mimetype": "text/x-python",
   "name": "python",
   "nbconvert_exporter": "python",
   "pygments_lexer": "ipython3",
   "version": "3.10.16"
  }
 },
 "nbformat": 4,
 "nbformat_minor": 5
}
